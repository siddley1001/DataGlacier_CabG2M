{
  "nbformat": 4,
  "nbformat_minor": 0,
  "metadata": {
    "colab": {
      "name": "Cab Exploration",
      "provenance": [],
      "collapsed_sections": [],
      "mount_file_id": "1vfPMVulEbw6ETA0iAG9ney0cCup2c24a",
      "authorship_tag": "ABX9TyPWuNdTqBKi/zNfZEqz6SZF",
      "include_colab_link": true
    },
    "kernelspec": {
      "display_name": "Python 3",
      "name": "python3"
    }
  },
  "cells": [
    {
      "cell_type": "markdown",
      "metadata": {
        "id": "view-in-github",
        "colab_type": "text"
      },
      "source": [
        "<a href=\"https://colab.research.google.com/github/siddley1001/DataGlacier_CabG2M/blob/main/Cab_Exploration.ipynb\" target=\"_parent\"><img src=\"https://colab.research.google.com/assets/colab-badge.svg\" alt=\"Open In Colab\"/></a>"
      ]
    },
    {
      "cell_type": "code",
      "metadata": {
        "id": "wzsTMDkhxANM"
      },
      "source": [
        "import pickle\n",
        "import pandas as pd\n",
        "import numpy as np\n",
        "import seaborn as sns\n",
        "import matplotlib.pyplot as plt\n",
        "%matplotlib inline\n",
        "\n",
        "from tqdm import tqdm\n",
        "import holidays\n",
        "\n",
        "#Sklearn Models\n",
        "from sklearn.neighbors import KNeighborsClassifier\n",
        "from sklearn.linear_model import LinearRegression\n",
        "from sklearn.ensemble import RandomForestRegressor\n",
        "\n",
        "#Non SkLearn Regression Models\n",
        "from sklearn.ensemble import GradientBoostingRegressor\n",
        "from xgboost import XGBRegressor\n",
        "from lightgbm import LGBMRegressor\n",
        "\n",
        "#Sklearn Utils\n",
        "from sklearn.model_selection import train_test_split\n",
        "from sklearn.model_selection import cross_val_score\n",
        "from sklearn.preprocessing import OneHotEncoder, StandardScaler \n",
        "from sklearn.pipeline import Pipeline\n",
        "from sklearn.compose import ColumnTransformer #used to transform numerical and categorical features\n",
        "\n",
        "GRAPH_PATH = '/content/drive/MyDrive/Data Glacier Internship Spring 2021/Pics/'\n",
        "plt.style.use('seaborn')"
      ],
      "execution_count": 76,
      "outputs": []
    },
    {
      "cell_type": "code",
      "metadata": {
        "id": "T_g5t3_OOomS"
      },
      "source": [
        "def fitscore(pipeline, X_train, y_train, X_test, y_test, cv):\n",
        "    ''' Fit pipeline on Training data and return the mean RMSE of the cross_val_score from the test/validation data'''    \n",
        "    pipeline.fit(X_train, y_train)\n",
        "    return round(np.sqrt(-1* cross_val_score(pipeline, X_test, y_test, cv= cv, scoring = 'neg_mean_squared_error').mean()), 6)"
      ],
      "execution_count": null,
      "outputs": []
    },
    {
      "cell_type": "code",
      "metadata": {
        "id": "FIUidAnfl7-t"
      },
      "source": [
        "import warnings\n",
        "def get_feature_names(column_transformer):\n",
        "    \"\"\"Get feature names from all transformers.\n",
        "    Returns\n",
        "    -------\n",
        "    feature_names : list of strings\n",
        "        Names of the features produced by transform.\n",
        "        \n",
        "    Code adapted from https://johaupt.github.io/scikit-learn/tutorial/python/data%20processing/ml%20pipeline/model%20interpretation/columnTransformer_feature_names.html\n",
        "    \"\"\"\n",
        "\n",
        "    def get_names(trans):\n",
        "        # >> Original get_feature_names() method\n",
        "        if trans == 'drop' or (\n",
        "                hasattr(column, '__len__') and not len(column)):\n",
        "            return []\n",
        "        if trans == 'passthrough':\n",
        "            if hasattr(column_transformer, '_df_columns'):\n",
        "                if ((not isinstance(column, slice))\n",
        "                        and all(isinstance(col, str) for col in column)):\n",
        "                    return column\n",
        "                else:\n",
        "                    return column_transformer._df_columns[column]\n",
        "            else:\n",
        "                indices = np.arange(column_transformer._n_features)\n",
        "                return ['x%d' % i for i in indices[column]]\n",
        "        if not hasattr(trans, 'get_feature_names'):\n",
        "        # >>> Change: Return input column names if no method avaiable\n",
        "            # Turn error into a warning\n",
        "            warnings.warn(\"Transformer %s (type %s) does not \"\n",
        "                                 \"provide get_feature_names. \"\n",
        "                                 \"Will return input column names if available\"\n",
        "                                 % (str(name), type(trans).__name__))\n",
        "            # For transformers without a get_features_names method, use the input\n",
        "            # names to the column transformer\n",
        "            if column is None:\n",
        "                return []\n",
        "            else:\n",
        "                return [name + \"__\" + f for f in column]\n",
        "\n",
        "        return [name + \"__\" + f for f in trans.get_feature_names()]\n",
        "    \n",
        "    ### Start of processing\n",
        "    feature_names = []\n",
        "    \n",
        "    # Allow transformers to be pipelines. Pipeline steps are named differently, so preprocessing is needed\n",
        "    if type(column_transformer) == Pipeline:\n",
        "        l_transformers = [(name, trans, None, None) for step, name, trans in column_transformer._iter()]\n",
        "    else:\n",
        "        # For column transformers, follow the original method\n",
        "        l_transformers = list(column_transformer._iter(fitted=True))\n",
        "    \n",
        "    \n",
        "    for name, trans, column, _ in l_transformers: \n",
        "        if type(trans) == Pipeline:\n",
        "            # Recursive call on pipeline\n",
        "            _names = get_feature_names(trans)\n",
        "            # if pipeline has no transformer that returns names\n",
        "            if len(_names)==0:\n",
        "                _names = [name + \"__\" + f for f in column]\n",
        "            feature_names.extend(_names)\n",
        "        else:\n",
        "            feature_names.extend(get_names(trans))\n",
        "    \n",
        "    return feature_names\n",
        "\n",
        "def feature_weights(pipeline):\n",
        "# Returns the Weights of the Features in a Linear Regression Pipeline\n",
        "    arr = np.empty((0,2), float)\n",
        "    for name, number in zip(get_feature_names(pipeline[0]), pipeline[1].coef_):\n",
        "        arr = np.append(arr, np.array([[name, number]]), axis=0)\n",
        "\n",
        "    importance_df = pd.DataFrame(arr, columns = ['Feature', 'Weight'])\n",
        "    importance_df['Weight'] = importance_df['Weight'].astype('float')\n",
        "    return importance_df.sort_values(by='Weight', ascending = False)"
      ],
      "execution_count": null,
      "outputs": []
    },
    {
      "cell_type": "markdown",
      "metadata": {
        "id": "Uex8dQ9a0E9V"
      },
      "source": [
        "Detail all the URLs from the GitHub Repo"
      ]
    },
    {
      "cell_type": "code",
      "metadata": {
        "id": "9e-iodcrzNw1"
      },
      "source": [
        "cab_data_url = 'https://raw.githubusercontent.com/siddley1001/DataSets/main/Cab_Data.csv'\n",
        "city_url = \"https://raw.githubusercontent.com/siddley1001/DataSets/main/City.csv\"\n",
        "customer_id_url = \"https://raw.githubusercontent.com/siddley1001/DataSets/main/Customer_ID.csv\"\n",
        "transaction_id_url = \"https://raw.githubusercontent.com/siddley1001/DataSets/main/Transaction_ID.csv\""
      ],
      "execution_count": 77,
      "outputs": []
    },
    {
      "cell_type": "code",
      "metadata": {
        "id": "IGz_XiQC0NBd"
      },
      "source": [
        "cab_data = pd.read_csv(cab_data_url)\n",
        "city_data = pd.read_csv(city_url)\n",
        "customer_data = pd.read_csv(customer_id_url)\n",
        "transaction_data = pd.read_csv(transaction_id_url)"
      ],
      "execution_count": 78,
      "outputs": []
    },
    {
      "cell_type": "markdown",
      "metadata": {
        "id": "IQ8VeeuFx11r"
      },
      "source": [
        "# Merge Dataframes to Create a MASTER table."
      ]
    },
    {
      "cell_type": "code",
      "metadata": {
        "colab": {
          "base_uri": "https://localhost:8080/"
        },
        "id": "K7x6X2wJxzKy",
        "outputId": "e75ab7fb-0bf1-444c-dc95-1d14a7fccf94"
      },
      "source": [
        "customer_transactions = pd.merge(customer_data, transaction_data, on= 'Customer ID')\n",
        "cab_city = pd.merge(cab_data, city_data, on = 'City')\n",
        "master_df = pd.merge(cab_city, customer_transactions, on = 'Transaction ID')\n",
        "\n",
        "pd.isnull(master_df).sum(axis =0)"
      ],
      "execution_count": 79,
      "outputs": [
        {
          "output_type": "execute_result",
          "data": {
            "text/plain": [
              "Transaction ID        0\n",
              "Date of Travel        0\n",
              "Company               0\n",
              "City                  0\n",
              "KM Travelled          0\n",
              "Price Charged         0\n",
              "Cost of Trip          0\n",
              "Population            0\n",
              "Users                 0\n",
              "Customer ID           0\n",
              "Gender                0\n",
              "Age                   0\n",
              "Income (USD/Month)    0\n",
              "Payment_Mode          0\n",
              "dtype: int64"
            ]
          },
          "metadata": {
            "tags": []
          },
          "execution_count": 79
        }
      ]
    },
    {
      "cell_type": "markdown",
      "metadata": {
        "id": "UUX0039H3bxj"
      },
      "source": [
        "# Key Question: Predict Profit per Company"
      ]
    },
    {
      "cell_type": "code",
      "metadata": {
        "colab": {
          "base_uri": "https://localhost:8080/",
          "height": 202
        },
        "id": "WnWaCntKjHyF",
        "outputId": "67704917-ac26-4c56-f323-99529a93a128"
      },
      "source": [
        "master_df.head()"
      ],
      "execution_count": 80,
      "outputs": [
        {
          "output_type": "execute_result",
          "data": {
            "text/html": [
              "<div>\n",
              "<style scoped>\n",
              "    .dataframe tbody tr th:only-of-type {\n",
              "        vertical-align: middle;\n",
              "    }\n",
              "\n",
              "    .dataframe tbody tr th {\n",
              "        vertical-align: top;\n",
              "    }\n",
              "\n",
              "    .dataframe thead th {\n",
              "        text-align: right;\n",
              "    }\n",
              "</style>\n",
              "<table border=\"1\" class=\"dataframe\">\n",
              "  <thead>\n",
              "    <tr style=\"text-align: right;\">\n",
              "      <th></th>\n",
              "      <th>Transaction ID</th>\n",
              "      <th>Date of Travel</th>\n",
              "      <th>Company</th>\n",
              "      <th>City</th>\n",
              "      <th>KM Travelled</th>\n",
              "      <th>Price Charged</th>\n",
              "      <th>Cost of Trip</th>\n",
              "      <th>Population</th>\n",
              "      <th>Users</th>\n",
              "      <th>Customer ID</th>\n",
              "      <th>Gender</th>\n",
              "      <th>Age</th>\n",
              "      <th>Income (USD/Month)</th>\n",
              "      <th>Payment_Mode</th>\n",
              "    </tr>\n",
              "  </thead>\n",
              "  <tbody>\n",
              "    <tr>\n",
              "      <th>0</th>\n",
              "      <td>10000011</td>\n",
              "      <td>1/8/2016</td>\n",
              "      <td>Pink Cab</td>\n",
              "      <td>ATLANTA GA</td>\n",
              "      <td>30.45</td>\n",
              "      <td>370.95</td>\n",
              "      <td>313.635</td>\n",
              "      <td>814,885</td>\n",
              "      <td>24,701</td>\n",
              "      <td>29290</td>\n",
              "      <td>Male</td>\n",
              "      <td>28</td>\n",
              "      <td>10813</td>\n",
              "      <td>Card</td>\n",
              "    </tr>\n",
              "    <tr>\n",
              "      <th>1</th>\n",
              "      <td>10000012</td>\n",
              "      <td>1/6/2016</td>\n",
              "      <td>Pink Cab</td>\n",
              "      <td>ATLANTA GA</td>\n",
              "      <td>28.62</td>\n",
              "      <td>358.52</td>\n",
              "      <td>334.854</td>\n",
              "      <td>814,885</td>\n",
              "      <td>24,701</td>\n",
              "      <td>27703</td>\n",
              "      <td>Male</td>\n",
              "      <td>27</td>\n",
              "      <td>9237</td>\n",
              "      <td>Card</td>\n",
              "    </tr>\n",
              "    <tr>\n",
              "      <th>2</th>\n",
              "      <td>10000013</td>\n",
              "      <td>1/2/2016</td>\n",
              "      <td>Pink Cab</td>\n",
              "      <td>ATLANTA GA</td>\n",
              "      <td>9.04</td>\n",
              "      <td>125.20</td>\n",
              "      <td>97.632</td>\n",
              "      <td>814,885</td>\n",
              "      <td>24,701</td>\n",
              "      <td>28712</td>\n",
              "      <td>Male</td>\n",
              "      <td>53</td>\n",
              "      <td>11242</td>\n",
              "      <td>Cash</td>\n",
              "    </tr>\n",
              "    <tr>\n",
              "      <th>3</th>\n",
              "      <td>10000014</td>\n",
              "      <td>1/7/2016</td>\n",
              "      <td>Pink Cab</td>\n",
              "      <td>ATLANTA GA</td>\n",
              "      <td>33.17</td>\n",
              "      <td>377.40</td>\n",
              "      <td>351.602</td>\n",
              "      <td>814,885</td>\n",
              "      <td>24,701</td>\n",
              "      <td>28020</td>\n",
              "      <td>Male</td>\n",
              "      <td>23</td>\n",
              "      <td>23327</td>\n",
              "      <td>Cash</td>\n",
              "    </tr>\n",
              "    <tr>\n",
              "      <th>4</th>\n",
              "      <td>10000015</td>\n",
              "      <td>1/3/2016</td>\n",
              "      <td>Pink Cab</td>\n",
              "      <td>ATLANTA GA</td>\n",
              "      <td>8.73</td>\n",
              "      <td>114.62</td>\n",
              "      <td>97.776</td>\n",
              "      <td>814,885</td>\n",
              "      <td>24,701</td>\n",
              "      <td>27182</td>\n",
              "      <td>Male</td>\n",
              "      <td>33</td>\n",
              "      <td>8536</td>\n",
              "      <td>Card</td>\n",
              "    </tr>\n",
              "  </tbody>\n",
              "</table>\n",
              "</div>"
            ],
            "text/plain": [
              "   Transaction ID Date of Travel  ... Income (USD/Month) Payment_Mode\n",
              "0        10000011       1/8/2016  ...              10813         Card\n",
              "1        10000012       1/6/2016  ...               9237         Card\n",
              "2        10000013       1/2/2016  ...              11242         Cash\n",
              "3        10000014       1/7/2016  ...              23327         Cash\n",
              "4        10000015       1/3/2016  ...               8536         Card\n",
              "\n",
              "[5 rows x 14 columns]"
            ]
          },
          "metadata": {
            "tags": []
          },
          "execution_count": 80
        }
      ]
    },
    {
      "cell_type": "code",
      "metadata": {
        "colab": {
          "base_uri": "https://localhost:8080/"
        },
        "id": "pIGe515PoTDP",
        "outputId": "495c383c-cc5b-4818-e018-cf36c8e777a6"
      },
      "source": [
        "print('There are {} cab rides (transactions) to analyze'.format(master_df.shape[0]))"
      ],
      "execution_count": 81,
      "outputs": [
        {
          "output_type": "stream",
          "text": [
            "There are 359392 cab rides (transactions) to analyze\n"
          ],
          "name": "stdout"
        }
      ]
    },
    {
      "cell_type": "code",
      "metadata": {
        "colab": {
          "base_uri": "https://localhost:8080/"
        },
        "id": "7bN_7SF_myAW",
        "outputId": "fd78870a-fd63-40f6-9a6e-48996b95d4c7"
      },
      "source": [
        "master_df.info()"
      ],
      "execution_count": 82,
      "outputs": [
        {
          "output_type": "stream",
          "text": [
            "<class 'pandas.core.frame.DataFrame'>\n",
            "Int64Index: 359392 entries, 0 to 359391\n",
            "Data columns (total 14 columns):\n",
            " #   Column              Non-Null Count   Dtype  \n",
            "---  ------              --------------   -----  \n",
            " 0   Transaction ID      359392 non-null  int64  \n",
            " 1   Date of Travel      359392 non-null  object \n",
            " 2   Company             359392 non-null  object \n",
            " 3   City                359392 non-null  object \n",
            " 4   KM Travelled        359392 non-null  float64\n",
            " 5   Price Charged       359392 non-null  float64\n",
            " 6   Cost of Trip        359392 non-null  float64\n",
            " 7   Population          359392 non-null  object \n",
            " 8   Users               359392 non-null  object \n",
            " 9   Customer ID         359392 non-null  int64  \n",
            " 10  Gender              359392 non-null  object \n",
            " 11  Age                 359392 non-null  int64  \n",
            " 12  Income (USD/Month)  359392 non-null  int64  \n",
            " 13  Payment_Mode        359392 non-null  object \n",
            "dtypes: float64(3), int64(4), object(7)\n",
            "memory usage: 41.1+ MB\n"
          ],
          "name": "stdout"
        }
      ]
    },
    {
      "cell_type": "code",
      "metadata": {
        "colab": {
          "base_uri": "https://localhost:8080/",
          "height": 202
        },
        "id": "1z3JqD688N19",
        "outputId": "72981c86-9cbb-4c3e-e373-460ba00bcec0"
      },
      "source": [
        "master_df.head()"
      ],
      "execution_count": 83,
      "outputs": [
        {
          "output_type": "execute_result",
          "data": {
            "text/html": [
              "<div>\n",
              "<style scoped>\n",
              "    .dataframe tbody tr th:only-of-type {\n",
              "        vertical-align: middle;\n",
              "    }\n",
              "\n",
              "    .dataframe tbody tr th {\n",
              "        vertical-align: top;\n",
              "    }\n",
              "\n",
              "    .dataframe thead th {\n",
              "        text-align: right;\n",
              "    }\n",
              "</style>\n",
              "<table border=\"1\" class=\"dataframe\">\n",
              "  <thead>\n",
              "    <tr style=\"text-align: right;\">\n",
              "      <th></th>\n",
              "      <th>Transaction ID</th>\n",
              "      <th>Date of Travel</th>\n",
              "      <th>Company</th>\n",
              "      <th>City</th>\n",
              "      <th>KM Travelled</th>\n",
              "      <th>Price Charged</th>\n",
              "      <th>Cost of Trip</th>\n",
              "      <th>Population</th>\n",
              "      <th>Users</th>\n",
              "      <th>Customer ID</th>\n",
              "      <th>Gender</th>\n",
              "      <th>Age</th>\n",
              "      <th>Income (USD/Month)</th>\n",
              "      <th>Payment_Mode</th>\n",
              "    </tr>\n",
              "  </thead>\n",
              "  <tbody>\n",
              "    <tr>\n",
              "      <th>0</th>\n",
              "      <td>10000011</td>\n",
              "      <td>1/8/2016</td>\n",
              "      <td>Pink Cab</td>\n",
              "      <td>ATLANTA GA</td>\n",
              "      <td>30.45</td>\n",
              "      <td>370.95</td>\n",
              "      <td>313.635</td>\n",
              "      <td>814,885</td>\n",
              "      <td>24,701</td>\n",
              "      <td>29290</td>\n",
              "      <td>Male</td>\n",
              "      <td>28</td>\n",
              "      <td>10813</td>\n",
              "      <td>Card</td>\n",
              "    </tr>\n",
              "    <tr>\n",
              "      <th>1</th>\n",
              "      <td>10000012</td>\n",
              "      <td>1/6/2016</td>\n",
              "      <td>Pink Cab</td>\n",
              "      <td>ATLANTA GA</td>\n",
              "      <td>28.62</td>\n",
              "      <td>358.52</td>\n",
              "      <td>334.854</td>\n",
              "      <td>814,885</td>\n",
              "      <td>24,701</td>\n",
              "      <td>27703</td>\n",
              "      <td>Male</td>\n",
              "      <td>27</td>\n",
              "      <td>9237</td>\n",
              "      <td>Card</td>\n",
              "    </tr>\n",
              "    <tr>\n",
              "      <th>2</th>\n",
              "      <td>10000013</td>\n",
              "      <td>1/2/2016</td>\n",
              "      <td>Pink Cab</td>\n",
              "      <td>ATLANTA GA</td>\n",
              "      <td>9.04</td>\n",
              "      <td>125.20</td>\n",
              "      <td>97.632</td>\n",
              "      <td>814,885</td>\n",
              "      <td>24,701</td>\n",
              "      <td>28712</td>\n",
              "      <td>Male</td>\n",
              "      <td>53</td>\n",
              "      <td>11242</td>\n",
              "      <td>Cash</td>\n",
              "    </tr>\n",
              "    <tr>\n",
              "      <th>3</th>\n",
              "      <td>10000014</td>\n",
              "      <td>1/7/2016</td>\n",
              "      <td>Pink Cab</td>\n",
              "      <td>ATLANTA GA</td>\n",
              "      <td>33.17</td>\n",
              "      <td>377.40</td>\n",
              "      <td>351.602</td>\n",
              "      <td>814,885</td>\n",
              "      <td>24,701</td>\n",
              "      <td>28020</td>\n",
              "      <td>Male</td>\n",
              "      <td>23</td>\n",
              "      <td>23327</td>\n",
              "      <td>Cash</td>\n",
              "    </tr>\n",
              "    <tr>\n",
              "      <th>4</th>\n",
              "      <td>10000015</td>\n",
              "      <td>1/3/2016</td>\n",
              "      <td>Pink Cab</td>\n",
              "      <td>ATLANTA GA</td>\n",
              "      <td>8.73</td>\n",
              "      <td>114.62</td>\n",
              "      <td>97.776</td>\n",
              "      <td>814,885</td>\n",
              "      <td>24,701</td>\n",
              "      <td>27182</td>\n",
              "      <td>Male</td>\n",
              "      <td>33</td>\n",
              "      <td>8536</td>\n",
              "      <td>Card</td>\n",
              "    </tr>\n",
              "  </tbody>\n",
              "</table>\n",
              "</div>"
            ],
            "text/plain": [
              "   Transaction ID Date of Travel  ... Income (USD/Month) Payment_Mode\n",
              "0        10000011       1/8/2016  ...              10813         Card\n",
              "1        10000012       1/6/2016  ...               9237         Card\n",
              "2        10000013       1/2/2016  ...              11242         Cash\n",
              "3        10000014       1/7/2016  ...              23327         Cash\n",
              "4        10000015       1/3/2016  ...               8536         Card\n",
              "\n",
              "[5 rows x 14 columns]"
            ]
          },
          "metadata": {
            "tags": []
          },
          "execution_count": 83
        }
      ]
    },
    {
      "cell_type": "code",
      "metadata": {
        "colab": {
          "base_uri": "https://localhost:8080/",
          "height": 294
        },
        "id": "5Kth8x8d5KPP",
        "outputId": "06a48df1-336b-46f4-a0bb-2bacb22c6a81"
      },
      "source": [
        "master_df.describe()"
      ],
      "execution_count": 84,
      "outputs": [
        {
          "output_type": "execute_result",
          "data": {
            "text/html": [
              "<div>\n",
              "<style scoped>\n",
              "    .dataframe tbody tr th:only-of-type {\n",
              "        vertical-align: middle;\n",
              "    }\n",
              "\n",
              "    .dataframe tbody tr th {\n",
              "        vertical-align: top;\n",
              "    }\n",
              "\n",
              "    .dataframe thead th {\n",
              "        text-align: right;\n",
              "    }\n",
              "</style>\n",
              "<table border=\"1\" class=\"dataframe\">\n",
              "  <thead>\n",
              "    <tr style=\"text-align: right;\">\n",
              "      <th></th>\n",
              "      <th>Transaction ID</th>\n",
              "      <th>KM Travelled</th>\n",
              "      <th>Price Charged</th>\n",
              "      <th>Cost of Trip</th>\n",
              "      <th>Customer ID</th>\n",
              "      <th>Age</th>\n",
              "      <th>Income (USD/Month)</th>\n",
              "    </tr>\n",
              "  </thead>\n",
              "  <tbody>\n",
              "    <tr>\n",
              "      <th>count</th>\n",
              "      <td>3.593920e+05</td>\n",
              "      <td>359392.000000</td>\n",
              "      <td>359392.000000</td>\n",
              "      <td>359392.000000</td>\n",
              "      <td>359392.000000</td>\n",
              "      <td>359392.000000</td>\n",
              "      <td>359392.000000</td>\n",
              "    </tr>\n",
              "    <tr>\n",
              "      <th>mean</th>\n",
              "      <td>1.022076e+07</td>\n",
              "      <td>22.567254</td>\n",
              "      <td>423.443311</td>\n",
              "      <td>286.190113</td>\n",
              "      <td>19191.652115</td>\n",
              "      <td>35.336705</td>\n",
              "      <td>15048.822937</td>\n",
              "    </tr>\n",
              "    <tr>\n",
              "      <th>std</th>\n",
              "      <td>1.268058e+05</td>\n",
              "      <td>12.233526</td>\n",
              "      <td>274.378911</td>\n",
              "      <td>157.993661</td>\n",
              "      <td>21012.412463</td>\n",
              "      <td>12.594234</td>\n",
              "      <td>7969.409482</td>\n",
              "    </tr>\n",
              "    <tr>\n",
              "      <th>min</th>\n",
              "      <td>1.000001e+07</td>\n",
              "      <td>1.900000</td>\n",
              "      <td>15.600000</td>\n",
              "      <td>19.000000</td>\n",
              "      <td>1.000000</td>\n",
              "      <td>18.000000</td>\n",
              "      <td>2000.000000</td>\n",
              "    </tr>\n",
              "    <tr>\n",
              "      <th>25%</th>\n",
              "      <td>1.011081e+07</td>\n",
              "      <td>12.000000</td>\n",
              "      <td>206.437500</td>\n",
              "      <td>151.200000</td>\n",
              "      <td>2705.000000</td>\n",
              "      <td>25.000000</td>\n",
              "      <td>8424.000000</td>\n",
              "    </tr>\n",
              "    <tr>\n",
              "      <th>50%</th>\n",
              "      <td>1.022104e+07</td>\n",
              "      <td>22.440000</td>\n",
              "      <td>386.360000</td>\n",
              "      <td>282.480000</td>\n",
              "      <td>7459.000000</td>\n",
              "      <td>33.000000</td>\n",
              "      <td>14685.000000</td>\n",
              "    </tr>\n",
              "    <tr>\n",
              "      <th>75%</th>\n",
              "      <td>1.033094e+07</td>\n",
              "      <td>32.960000</td>\n",
              "      <td>583.660000</td>\n",
              "      <td>413.683200</td>\n",
              "      <td>36078.000000</td>\n",
              "      <td>42.000000</td>\n",
              "      <td>21035.000000</td>\n",
              "    </tr>\n",
              "    <tr>\n",
              "      <th>max</th>\n",
              "      <td>1.044011e+07</td>\n",
              "      <td>48.000000</td>\n",
              "      <td>2048.030000</td>\n",
              "      <td>691.200000</td>\n",
              "      <td>60000.000000</td>\n",
              "      <td>65.000000</td>\n",
              "      <td>35000.000000</td>\n",
              "    </tr>\n",
              "  </tbody>\n",
              "</table>\n",
              "</div>"
            ],
            "text/plain": [
              "       Transaction ID   KM Travelled  ...            Age  Income (USD/Month)\n",
              "count    3.593920e+05  359392.000000  ...  359392.000000       359392.000000\n",
              "mean     1.022076e+07      22.567254  ...      35.336705        15048.822937\n",
              "std      1.268058e+05      12.233526  ...      12.594234         7969.409482\n",
              "min      1.000001e+07       1.900000  ...      18.000000         2000.000000\n",
              "25%      1.011081e+07      12.000000  ...      25.000000         8424.000000\n",
              "50%      1.022104e+07      22.440000  ...      33.000000        14685.000000\n",
              "75%      1.033094e+07      32.960000  ...      42.000000        21035.000000\n",
              "max      1.044011e+07      48.000000  ...      65.000000        35000.000000\n",
              "\n",
              "[8 rows x 7 columns]"
            ]
          },
          "metadata": {
            "tags": []
          },
          "execution_count": 84
        }
      ]
    },
    {
      "cell_type": "code",
      "metadata": {
        "colab": {
          "base_uri": "https://localhost:8080/"
        },
        "id": "Hv-jorX4otmb",
        "outputId": "082901ca-d361-46bf-c441-5ed09ab7bba6"
      },
      "source": [
        "master_df['Date of Travel'].sort_values(ascending = True)\n",
        "print('The data spans 3 Years from 2016 - 2018')"
      ],
      "execution_count": 85,
      "outputs": [
        {
          "output_type": "stream",
          "text": [
            "The data spans 3 Years from 2016 - 2018\n"
          ],
          "name": "stdout"
        }
      ]
    },
    {
      "cell_type": "markdown",
      "metadata": {
        "id": "cejjsVr_nNyK"
      },
      "source": [
        "## Column Transformations + Feature Generation\n",
        "- Date\n",
        "- Population\n",
        "- Users\n"
      ]
    },
    {
      "cell_type": "code",
      "metadata": {
        "id": "-7XsQzIwK1gR"
      },
      "source": [
        "master_df['Date of Travel'] = pd.to_datetime(master_df['Date of Travel'], format= '%m/%d/%Y')\n",
        "\n",
        "#Replace commas in the column\n",
        "master_df.Population = master_df['Population'].str.replace(\",\", \"\")\n",
        "master_df.Users = master_df['Users'].str.replace(',', \"\")\n",
        "\n",
        "master_df.Population = master_df.Population.astype(int, copy = False)\n",
        "master_df.Users = master_df.Users.astype(int, copy = False)"
      ],
      "execution_count": 86,
      "outputs": []
    },
    {
      "cell_type": "code",
      "metadata": {
        "id": "65F3PZX0QEuS"
      },
      "source": [
        "#Generate Target Feature\n",
        "master_df['Profit'] = master_df['Price Charged'] - master_df['Cost of Trip']\n",
        "\n",
        "#Save pre-feature engineered data for baseline models\n",
        "usable_master = master_df.copy()\n",
        "usable_master_pink = usable_master.loc[usable_master['Company'] == 'Pink Cab']\n",
        "usable_master_yellow = usable_master.loc[usable_master['Company'] == 'Yellow Cab']"
      ],
      "execution_count": 87,
      "outputs": []
    },
    {
      "cell_type": "markdown",
      "metadata": {
        "id": "nTmEB4zaFs_0"
      },
      "source": [
        "New Features"
      ]
    },
    {
      "cell_type": "code",
      "metadata": {
        "id": "PfI2cB4c0R6c"
      },
      "source": [
        "master_df['Customer_Gender_Male'] = master_df['Gender'].apply(lambda sex: 1 if sex == 'Male' else 0).astype(bool)\n",
        "master_df.drop('Gender',axis = 1, inplace = True)\n",
        "\n",
        "master_df['% of Population that are Users'] = master_df['Users']/master_df['Population']"
      ],
      "execution_count": 88,
      "outputs": []
    },
    {
      "cell_type": "code",
      "metadata": {
        "id": "MUEZ6NZV8F0D"
      },
      "source": [
        "unq_cities = master_df.City.unique().tolist()\n",
        "\n",
        "timezones = ['EDT', 'CDT', 'EDT', 'CDT', 'CDT', 'MDT', 'PDT', 'EDT', 'CDT', \n",
        "             'EDT', 'PDT', 'MST', \"EST\", 'PDT', 'PDT', 'PDT', 'PDT', 'MST', 'EDT' ]\n",
        "\n",
        "location_dict = {}\n",
        "\n",
        "for city, tz in zip(unq_cities, timezones):\n",
        "    location_dict[city] = tz\n",
        "\n",
        "master_df['Timezone'] = master_df['City'].map(location_dict)"
      ],
      "execution_count": 89,
      "outputs": []
    },
    {
      "cell_type": "code",
      "metadata": {
        "id": "GtIYrdcN95fl"
      },
      "source": [
        "us_holidays = holidays.US()\n",
        "master_df['on_holiday'] = master_df['Date of Travel'].apply(lambda date: True if date in us_holidays else False).astype(bool)"
      ],
      "execution_count": 90,
      "outputs": []
    },
    {
      "cell_type": "markdown",
      "metadata": {
        "id": "gmUIfet245Pd"
      },
      "source": [
        "**Generate \"Quarter\"** feature from Datetime ('Date of Travel') column"
      ]
    },
    {
      "cell_type": "code",
      "metadata": {
        "id": "f48XQq-IpuK2"
      },
      "source": [
        "master_df['Month'] = master_df['Date of Travel'].apply(lambda date: date.month)\n",
        "master_df['Year'] = master_df['Date of Travel'].apply(lambda date: date.year)\n",
        "master_df.drop('Date of Travel', axis = 1, inplace = True)"
      ],
      "execution_count": 91,
      "outputs": []
    },
    {
      "cell_type": "code",
      "metadata": {
        "id": "3vYzniGGjXF2"
      },
      "source": [
        "# quarter_map = {1:1, 2:1, 3:1, 4:2, 5:2, 6:2, 7:3, 8:3, 9:3, 10:4, 11:4, 12:4}\n",
        "# master_df['Quarter'] = master_df['Month'].map(quarter_map)"
      ],
      "execution_count": 92,
      "outputs": []
    },
    {
      "cell_type": "markdown",
      "metadata": {
        "id": "mWSzsfZ7C22C"
      },
      "source": [
        "# Feature Visualization"
      ]
    },
    {
      "cell_type": "code",
      "metadata": {
        "colab": {
          "base_uri": "https://localhost:8080/",
          "height": 1000
        },
        "id": "_8yu6MlfzZis",
        "outputId": "51f8f542-d263-4cd6-de14-6cebc15cfe52"
      },
      "source": [
        "plt.figure(figsize = (20,20))\n",
        "sns.heatmap(master_df.corr(), annot=True)\n",
        "plt.xticks(rotation = 45)"
      ],
      "execution_count": 93,
      "outputs": [
        {
          "output_type": "execute_result",
          "data": {
            "text/plain": [
              "(array([ 0.5,  1.5,  2.5,  3.5,  4.5,  5.5,  6.5,  7.5,  8.5,  9.5, 10.5,\n",
              "        11.5, 12.5, 13.5, 14.5]), <a list of 15 Text major ticklabel objects>)"
            ]
          },
          "metadata": {
            "tags": []
          },
          "execution_count": 93
        },
        {
          "output_type": "display_data",
          "data": {
            "image/png": "[encoded data removed]",
            "text/plain": [
              "<Figure size 1440x1440 with 2 Axes>"
            ]
          },
          "metadata": {
            "tags": []
          }
        }
      ]
    },
    {
      "cell_type": "code",
      "metadata": {
        "colab": {
          "base_uri": "https://localhost:8080/",
          "height": 393
        },
        "id": "WBHOY6qYNVPj",
        "outputId": "6a14ee8d-c3ce-455a-8659-85e650dc3769"
      },
      "source": [
        "plt.figure(figsize = (4,4))\n",
        "master_df.groupby('Year').agg({'Profit': 'sum'}).plot(kind = 'barh')\n",
        "plt.title('Total Profit by Year from both Pink and Yellow Companies')\n",
        "plt.xlabel('Profit ($10M)')\n",
        "plt.savefig(GRAPH_PATH + 'Total Profit by Year.png', dpi=300, format='png')"
      ],
      "execution_count": 94,
      "outputs": [
        {
          "output_type": "display_data",
          "data": {
            "text/plain": [
              "<Figure size 288x288 with 0 Axes>"
            ]
          },
          "metadata": {
            "tags": []
          }
        },
        {
          "output_type": "display_data",
          "data": {
            "image/png": "[encoded data removed]",
            "text/plain": [
              "<Figure size 576x396 with 1 Axes>"
            ]
          },
          "metadata": {
            "tags": []
          }
        }
      ]
    },
    {
      "cell_type": "code",
      "metadata": {
        "colab": {
          "base_uri": "https://localhost:8080/",
          "height": 172
        },
        "id": "fWQ5zH6MAu5l",
        "outputId": "20972543-f384-4ffa-85ba-b4d85c4203e5"
      },
      "source": [
        "master_df.groupby('Year').agg({'Profit': 'sum'}).pct_change()"
      ],
      "execution_count": 95,
      "outputs": [
        {
          "output_type": "execute_result",
          "data": {
            "text/html": [
              "<div>\n",
              "<style scoped>\n",
              "    .dataframe tbody tr th:only-of-type {\n",
              "        vertical-align: middle;\n",
              "    }\n",
              "\n",
              "    .dataframe tbody tr th {\n",
              "        vertical-align: top;\n",
              "    }\n",
              "\n",
              "    .dataframe thead th {\n",
              "        text-align: right;\n",
              "    }\n",
              "</style>\n",
              "<table border=\"1\" class=\"dataframe\">\n",
              "  <thead>\n",
              "    <tr style=\"text-align: right;\">\n",
              "      <th></th>\n",
              "      <th>Profit</th>\n",
              "    </tr>\n",
              "    <tr>\n",
              "      <th>Year</th>\n",
              "      <th></th>\n",
              "    </tr>\n",
              "  </thead>\n",
              "  <tbody>\n",
              "    <tr>\n",
              "      <th>2016</th>\n",
              "      <td>NaN</td>\n",
              "    </tr>\n",
              "    <tr>\n",
              "      <th>2017</th>\n",
              "      <td>0.189836</td>\n",
              "    </tr>\n",
              "    <tr>\n",
              "      <th>2018</th>\n",
              "      <td>-0.189798</td>\n",
              "    </tr>\n",
              "  </tbody>\n",
              "</table>\n",
              "</div>"
            ],
            "text/plain": [
              "        Profit\n",
              "Year          \n",
              "2016       NaN\n",
              "2017  0.189836\n",
              "2018 -0.189798"
            ]
          },
          "metadata": {
            "tags": []
          },
          "execution_count": 95
        }
      ]
    },
    {
      "cell_type": "code",
      "metadata": {
        "colab": {
          "base_uri": "https://localhost:8080/",
          "height": 408
        },
        "id": "okK2sAOlNCXx",
        "outputId": "b40be30b-63af-4130-8c31-bbd12737f698"
      },
      "source": [
        "plt.figure(figsize = (4,4))\n",
        "master_df.groupby('Month').agg({'Profit': 'sum'}).plot()\n",
        "plt.title('Total Profit per Month from Both Pink and Yellow Companies', pad=20)\n",
        "plt.ylabel('Profit ($M)')\n",
        "plt.savefig(GRAPH_PATH + 'Total Profit by Month.png', dpi=300, format='png')"
      ],
      "execution_count": 96,
      "outputs": [
        {
          "output_type": "display_data",
          "data": {
            "text/plain": [
              "<Figure size 288x288 with 0 Axes>"
            ]
          },
          "metadata": {
            "tags": []
          }
        },
        {
          "output_type": "display_data",
          "data": {
            "image/png": "[encoded data removed]",
            "text/plain": [
              "<Figure size 576x396 with 1 Axes>"
            ]
          },
          "metadata": {
            "tags": []
          }
        }
      ]
    },
    {
      "cell_type": "code",
      "metadata": {
        "colab": {
          "base_uri": "https://localhost:8080/",
          "height": 349
        },
        "id": "dcxH71FViNOJ",
        "outputId": "e94b48ea-fb75-4a83-d952-3edaa70a0d89"
      },
      "source": [
        "monthly_profit = master_df.groupby('Month').agg({'Profit': 'sum'})\n",
        "monthly_transactions = master_df.groupby('Month').agg({'Transaction ID': 'count'})\n",
        "monthly = pd.concat([monthly_profit, monthly_transactions], axis = 1)\n",
        "monthly.index = monthly.index -1\n",
        "\n",
        "fig, ax1 = plt.subplots(figsize = (7,5))\n",
        "monthly['Profit'].plot(kind = 'line', marker = 'o', ax = ax1)\n",
        "ax2 = ax1.twinx()  # set up the 2nd axis\n",
        "monthly['Transaction ID'].plot(kind = 'bar', ax = ax2, alpha=0.2, color='darkblue')\n",
        "ax2.grid(b = False)\n",
        "\n",
        "plt.title('Cab Ride Volume vs. Profit per Month ($Mil)')\n",
        "ax1.set_ylabel('Profit in Millions')\n",
        "ax2.set_ylabel('Volume of Cab Rides')\n",
        "\n",
        "plt.savefig(GRAPH_PATH + 'Volume vs. Profit by Month.png', dpi=300, format='png')"
      ],
      "execution_count": 97,
      "outputs": [
        {
          "output_type": "display_data",
          "data": {
            "image/png": "[encoded data removed]",
            "text/plain": [
              "<Figure size 504x360 with 2 Axes>"
            ]
          },
          "metadata": {
            "tags": []
          }
        }
      ]
    },
    {
      "cell_type": "code",
      "metadata": {
        "colab": {
          "base_uri": "https://localhost:8080/",
          "height": 393
        },
        "id": "HBySUxsbycmh",
        "outputId": "d277cd22-d323-49d1-d516-9b926329b84c"
      },
      "source": [
        "plt.title('Profit of each Company by Year')\n",
        "plt.xlabel('Profit ($M)')\n",
        "master_df.groupby(['Company', 'Year'])['Profit'].agg('sum').plot(kind = 'barh')\n",
        "print('2017 was the best year profit-wise for Both companies')"
      ],
      "execution_count": 98,
      "outputs": [
        {
          "output_type": "stream",
          "text": [
            "2017 was the best year profit-wise for Both companies\n"
          ],
          "name": "stdout"
        },
        {
          "output_type": "display_data",
          "data": {
            "image/png": "[encoded data removed]",
            "text/plain": [
              "<Figure size 576x396 with 1 Axes>"
            ]
          },
          "metadata": {
            "tags": []
          }
        }
      ]
    },
    {
      "cell_type": "code",
      "metadata": {
        "colab": {
          "base_uri": "https://localhost:8080/",
          "height": 426
        },
        "id": "ynXRERWNWdsd",
        "outputId": "9a6461f7-0069-4377-83e2-9023b378acfc"
      },
      "source": [
        "cab_palette = ['#ffe666', '#e3b7d2']\n",
        "\n",
        "plt.figure(figsize=(6,6))\n",
        "plt.title('Distribution of Cab Trips by Company')\n",
        "master_df.Company.value_counts().plot(kind = 'pie', colors=cab_palette, autopct='%1.1f%%')\n",
        "plt.axes().set_ylabel('')\n",
        "\n",
        "plt.savefig(GRAPH_PATH + 'Company Volume Distribution.png', dpi=300, format='png')"
      ],
      "execution_count": 99,
      "outputs": [
        {
          "output_type": "stream",
          "text": [
            "/usr/local/lib/python3.7/dist-packages/ipykernel_launcher.py:6: MatplotlibDeprecationWarning: Adding an axes using the same arguments as a previous axes currently reuses the earlier instance.  In a future version, a new instance will always be created and returned.  Meanwhile, this warning can be suppressed, and the future behavior ensured, by passing a unique label to each axes instance.\n",
            "  \n"
          ],
          "name": "stderr"
        },
        {
          "output_type": "display_data",
          "data": {
            "image/png": "[encoded data removed]",
            "text/plain": [
              "<Figure size 432x432 with 1 Axes>"
            ]
          },
          "metadata": {
            "tags": []
          }
        }
      ]
    },
    {
      "cell_type": "code",
      "metadata": {
        "colab": {
          "base_uri": "https://localhost:8080/",
          "height": 141
        },
        "id": "1LZMuX7vCazd",
        "outputId": "9a0e222a-fdd7-4108-bd4b-fc6cb4500599"
      },
      "source": [
        "total_yellow, total_pink = master_df.Company.value_counts()[0], master_df.Company.value_counts()[1]\n",
        "profits = master_df.groupby('Company').agg({'Profit': 'sum'})\n",
        "costs = master_df.groupby('Company').agg({'Cost of Trip': 'sum'})\n",
        "\n",
        "profit_ratios = [profits.iloc[0]/total_pink, profits.iloc[1]/total_yellow]\n",
        "cost_ratios = [costs.iloc[0]/total_pink, costs.iloc[1]/total_yellow]\n",
        "\n",
        "cabss = pd.concat([profits, costs, pd.DataFrame(profit_ratios).iloc[:,0],  pd.DataFrame(cost_ratios).iloc[:,0]], axis=1)\n",
        "cabss.columns = ['Total Profit', 'Total Cost of Rides', 'Avg Profit/Ride', 'Avg Cost/Ride']\n",
        "cabss['Profit/Cost Ratio'] = cabss['Avg Profit/Ride']/cabss['Avg Cost/Ride']\n",
        "cabss"
      ],
      "execution_count": 100,
      "outputs": [
        {
          "output_type": "execute_result",
          "data": {
            "text/html": [
              "<div>\n",
              "<style scoped>\n",
              "    .dataframe tbody tr th:only-of-type {\n",
              "        vertical-align: middle;\n",
              "    }\n",
              "\n",
              "    .dataframe tbody tr th {\n",
              "        vertical-align: top;\n",
              "    }\n",
              "\n",
              "    .dataframe thead th {\n",
              "        text-align: right;\n",
              "    }\n",
              "</style>\n",
              "<table border=\"1\" class=\"dataframe\">\n",
              "  <thead>\n",
              "    <tr style=\"text-align: right;\">\n",
              "      <th></th>\n",
              "      <th>Total Profit</th>\n",
              "      <th>Total Cost of Rides</th>\n",
              "      <th>Avg Profit/Ride</th>\n",
              "      <th>Avg Cost/Ride</th>\n",
              "      <th>Profit/Cost Ratio</th>\n",
              "    </tr>\n",
              "    <tr>\n",
              "      <th>Company</th>\n",
              "      <th></th>\n",
              "      <th></th>\n",
              "      <th></th>\n",
              "      <th></th>\n",
              "      <th></th>\n",
              "    </tr>\n",
              "  </thead>\n",
              "  <tbody>\n",
              "    <tr>\n",
              "      <th>Pink Cab</th>\n",
              "      <td>5.307328e+06</td>\n",
              "      <td>2.102092e+07</td>\n",
              "      <td>62.652174</td>\n",
              "      <td>248.148682</td>\n",
              "      <td>0.252478</td>\n",
              "    </tr>\n",
              "    <tr>\n",
              "      <th>Yellow Cab</th>\n",
              "      <td>4.402037e+07</td>\n",
              "      <td>8.183351e+07</td>\n",
              "      <td>160.259986</td>\n",
              "      <td>297.922004</td>\n",
              "      <td>0.537926</td>\n",
              "    </tr>\n",
              "  </tbody>\n",
              "</table>\n",
              "</div>"
            ],
            "text/plain": [
              "            Total Profit  Total Cost of Rides  ...  Avg Cost/Ride  Profit/Cost Ratio\n",
              "Company                                        ...                                  \n",
              "Pink Cab    5.307328e+06         2.102092e+07  ...     248.148682           0.252478\n",
              "Yellow Cab  4.402037e+07         8.183351e+07  ...     297.922004           0.537926\n",
              "\n",
              "[2 rows x 5 columns]"
            ]
          },
          "metadata": {
            "tags": []
          },
          "execution_count": 100
        }
      ]
    },
    {
      "cell_type": "code",
      "metadata": {
        "colab": {
          "base_uri": "https://localhost:8080/",
          "height": 376
        },
        "id": "FdpfDW47VhBq",
        "outputId": "c406301f-bc40-4fc0-b625-d489d6b3fdae"
      },
      "source": [
        "plt.title('Ages of Customers across Pink and Yellow Cab Companies')\n",
        "sns.histplot(master_df, x = 'Age', hue='Company', palette=['#ce80b0', '#ffda1a'], bins=5)\n",
        "plt.savefig(GRAPH_PATH + 'Age Demographic.png', dpi=300, format='png')"
      ],
      "execution_count": 101,
      "outputs": [
        {
          "output_type": "display_data",
          "data": {
            "image/png": "[encoded data removed]",
            "text/plain": [
              "<Figure size 576x396 with 1 Axes>"
            ]
          },
          "metadata": {
            "tags": []
          }
        }
      ]
    },
    {
      "cell_type": "code",
      "metadata": {
        "colab": {
          "base_uri": "https://localhost:8080/",
          "height": 393
        },
        "id": "IfqItOI-bLYk",
        "outputId": "968b01c8-bc7f-4658-d6e7-09499a4cd19a"
      },
      "source": [
        "plt.style.use('seaborn-deep')\n",
        "plt.title('Customer Incomes across the Pink and Yellow Cab Companies')\n",
        "sns.histplot(master_df, x = 'Income (USD/Month)', hue='Company', palette=['#ce80b0', '#ffda1a'], bins=3)"
      ],
      "execution_count": 102,
      "outputs": [
        {
          "output_type": "execute_result",
          "data": {
            "text/plain": [
              "<matplotlib.axes._subplots.AxesSubplot at 0x7fa05a377750>"
            ]
          },
          "metadata": {
            "tags": []
          },
          "execution_count": 102
        },
        {
          "output_type": "display_data",
          "data": {
            "image/png": "[encoded data removed]",
            "text/plain": [
              "<Figure size 576x396 with 1 Axes>"
            ]
          },
          "metadata": {
            "tags": []
          }
        }
      ]
    },
    {
      "cell_type": "code",
      "metadata": {
        "colab": {
          "base_uri": "https://localhost:8080/",
          "height": 753
        },
        "id": "edv4J6x9XC0p",
        "outputId": "16f8045a-72ef-4978-a16a-38fac118cd82"
      },
      "source": [
        "plt.figure(figsize=(12, 12))\n",
        "plt.title(\"Distribution of Ride Volume by City\")\n",
        "master_df.City.value_counts().plot(kind = 'pie')\n",
        "plt.axes().set_ylabel('')\n",
        "plt.savefig(GRAPH_PATH + 'Ride Volume by City.png', dpi=300, format='png')"
      ],
      "execution_count": 103,
      "outputs": [
        {
          "output_type": "stream",
          "text": [
            "/usr/local/lib/python3.7/dist-packages/ipykernel_launcher.py:4: MatplotlibDeprecationWarning: Adding an axes using the same arguments as a previous axes currently reuses the earlier instance.  In a future version, a new instance will always be created and returned.  Meanwhile, this warning can be suppressed, and the future behavior ensured, by passing a unique label to each axes instance.\n",
            "  after removing the cwd from sys.path.\n"
          ],
          "name": "stderr"
        },
        {
          "output_type": "display_data",
          "data": {
            "image/png": "[encoded data removed]",
            "text/plain": [
              "<Figure size 864x864 with 1 Axes>"
            ]
          },
          "metadata": {
            "tags": []
          }
        }
      ]
    },
    {
      "cell_type": "markdown",
      "metadata": {
        "id": "tgnaGyrJDoaZ"
      },
      "source": [
        "## Further EDA"
      ]
    },
    {
      "cell_type": "code",
      "metadata": {
        "colab": {
          "base_uri": "https://localhost:8080/"
        },
        "id": "Om_q8nx0rkca",
        "outputId": "626f68db-cbaa-4824-ec90-476bb33273c5"
      },
      "source": [
        "master_p = master_df.loc[master_df.Company == 'Pink Cab']\n",
        "master_p.drop('Company', axis=1, inplace = True)\n",
        "\n",
        "master_y = master_df.loc[master_df.Company == 'Yellow Cab']\n",
        "master_y.drop('Company', axis=1, inplace = True)"
      ],
      "execution_count": 104,
      "outputs": [
        {
          "output_type": "stream",
          "text": [
            "/usr/local/lib/python3.7/dist-packages/pandas/core/frame.py:4174: SettingWithCopyWarning: \n",
            "A value is trying to be set on a copy of a slice from a DataFrame\n",
            "\n",
            "See the caveats in the documentation: https://pandas.pydata.org/pandas-docs/stable/user_guide/indexing.html#returning-a-view-versus-a-copy\n",
            "  errors=errors,\n"
          ],
          "name": "stderr"
        }
      ]
    },
    {
      "cell_type": "code",
      "metadata": {
        "colab": {
          "base_uri": "https://localhost:8080/"
        },
        "id": "9Rq-JaAx97sp",
        "outputId": "c0b05374-57dc-43f5-e40a-0e1c09d60005"
      },
      "source": [
        "master_df.groupby(['Company', 'City'])['KM Travelled'].sum().nlargest(8)"
      ],
      "execution_count": 105,
      "outputs": [
        {
          "output_type": "execute_result",
          "data": {
            "text/plain": [
              "Company     City          \n",
              "Yellow Cab  NEW YORK NY       1932842.47\n",
              "            CHICAGO IL        1070978.26\n",
              "            WASHINGTON DC      906038.71\n",
              "            LOS ANGELES CA     639078.88\n",
              "            BOSTON MA          552454.67\n",
              "Pink Cab    LOS ANGELES CA     449656.77\n",
              "            NEW YORK NY        315967.27\n",
              "            SAN DIEGO CA       240703.87\n",
              "Name: KM Travelled, dtype: float64"
            ]
          },
          "metadata": {
            "tags": []
          },
          "execution_count": 105
        }
      ]
    },
    {
      "cell_type": "code",
      "metadata": {
        "colab": {
          "base_uri": "https://localhost:8080/"
        },
        "id": "HDnGWtLVBcKW",
        "outputId": "b3d2f8fb-6217-4a46-e868-170c3720624e"
      },
      "source": [
        "master_df.groupby('City')['Profit'].mean().nlargest(25)"
      ],
      "execution_count": 106,
      "outputs": [
        {
          "output_type": "execute_result",
          "data": {
            "text/plain": [
              "City\n",
              "NEW YORK NY       279.947491\n",
              "DALLAS TX         160.856957\n",
              "SILICON VALLEY    154.561013\n",
              "MIAMI FL          117.493220\n",
              "ORANGE COUNTY     114.766920\n",
              "ATLANTA GA        111.477158\n",
              "AUSTIN TX         107.577824\n",
              "DENVER CO         103.943793\n",
              "PHOENIX AZ         93.479109\n",
              "LOS ANGELES CA     91.847452\n",
              "WASHINGTON DC      79.860762\n",
              "SAN DIEGO CA       77.467955\n",
              "SEATTLE WA         75.613962\n",
              "TUCSON AZ          72.636300\n",
              "PITTSBURGH PA      64.863638\n",
              "CHICAGO IL         59.820104\n",
              "BOSTON MA          59.568883\n",
              "NASHVILLE TN       49.678478\n",
              "SACRAMENTO CA      49.567466\n",
              "Name: Profit, dtype: float64"
            ]
          },
          "metadata": {
            "tags": []
          },
          "execution_count": 106
        }
      ]
    },
    {
      "cell_type": "markdown",
      "metadata": {
        "id": "-JEn9AQS1cCF"
      },
      "source": [
        "Customer Retention"
      ]
    },
    {
      "cell_type": "code",
      "metadata": {
        "colab": {
          "base_uri": "https://localhost:8080/"
        },
        "id": "xTq19EIvim2Q",
        "outputId": "a6dd7292-47e1-4b03-b9bf-2ddc32264f06"
      },
      "source": [
        "pink_users = master_p['Customer ID'].value_counts().sum()\n",
        "pmask5 = master_p['Customer ID'].value_counts() >4\n",
        "pmask2 = master_p['Customer ID'].value_counts() >1\n",
        "pmask1 = master_p['Customer ID'].value_counts() ==1\n",
        "print('%f of Total Customers Used the Company again (> 5x)' % (master_p['Customer ID'].value_counts().loc[pmask5].sum()/pink_users))\n",
        "print('%f of Total Customers Used the Company again (>= 2x)' % (master_p['Customer ID'].value_counts().loc[pmask2].sum()/pink_users))\n",
        "print('%f of Total Customers Used the Company only once' % (master_p['Customer ID'].value_counts().loc[pmask1].sum()/pink_users))"
      ],
      "execution_count": 107,
      "outputs": [
        {
          "output_type": "stream",
          "text": [
            "0.436012 of Total Customers Used the Company again (> 5x)\n",
            "0.830789 of Total Customers Used the Company again (>= 2x)\n",
            "0.169211 of Total Customers Used the Company only once\n"
          ],
          "name": "stdout"
        }
      ]
    },
    {
      "cell_type": "code",
      "metadata": {
        "colab": {
          "base_uri": "https://localhost:8080/"
        },
        "id": "RpVBikv_jsR4",
        "outputId": "b71f7714-ac3a-4df9-e4ee-93c5b2f8349c"
      },
      "source": [
        "yellow_users = master_y['Customer ID'].value_counts().sum()\n",
        "ymask5 = master_y['Customer ID'].value_counts() >4\n",
        "ymask2 = master_y['Customer ID'].value_counts() >1\n",
        "ymask1 = master_y['Customer ID'].value_counts() ==1\n",
        "print('%f of Total Customers Used the Company again (> 5x)' % (master_y['Customer ID'].value_counts().loc[ymask5].sum()/yellow_users))\n",
        "print('%f of Total Customers Used the Company again (>= 2x)' % (master_y['Customer ID'].value_counts().loc[ymask2].sum()/yellow_users))\n",
        "print('%f of Total Customers Used the Company only once' % (master_y['Customer ID'].value_counts().loc[ymask1].sum()/yellow_users))"
      ],
      "execution_count": 108,
      "outputs": [
        {
          "output_type": "stream",
          "text": [
            "0.841664 of Total Customers Used the Company again (> 5x)\n",
            "0.956200 of Total Customers Used the Company again (>= 2x)\n",
            "0.043800 of Total Customers Used the Company only once\n"
          ],
          "name": "stdout"
        }
      ]
    },
    {
      "cell_type": "markdown",
      "metadata": {
        "id": "L1OvICVe2Fih"
      },
      "source": [
        "Central Tendencies of a Rider's Income based on Gender\n",
        "\n",
        "\n",
        "\n"
      ]
    },
    {
      "cell_type": "code",
      "metadata": {
        "colab": {
          "base_uri": "https://localhost:8080/"
        },
        "id": "k8m-TW-jENCo",
        "outputId": "0f1e11d4-ab86-4422-b6d2-0e5b349d289e"
      },
      "source": [
        "customer_data.groupby('Gender')[['Age', 'Income (USD/Month)']].mean()\n",
        "print(\"Male and Female Customers have an average (mean) age of 35 and generate $15,000/mo. Males are slightly older and generate a little bit more income\")"
      ],
      "execution_count": 109,
      "outputs": [
        {
          "output_type": "stream",
          "text": [
            "Male and Female Customers have an average (mean) age of 35 and generate $15,000/mo. Males are slightly older and generate a little bit more income\n"
          ],
          "name": "stdout"
        }
      ]
    },
    {
      "cell_type": "code",
      "metadata": {
        "colab": {
          "base_uri": "https://localhost:8080/"
        },
        "id": "ILCc0-wqFAsr",
        "outputId": "ab632265-fee1-46b9-f4cb-20cb2287b7a4"
      },
      "source": [
        "customer_data.groupby('Gender')[['Age', 'Income (USD/Month)']].median()\n",
        "print(\"Male and Female customers have a median age of 33 and a slightly less median Income of ~$14,600\")"
      ],
      "execution_count": 110,
      "outputs": [
        {
          "output_type": "stream",
          "text": [
            "Male and Female customers have a median age of 33 and a slightly less median Income of ~$14,600\n"
          ],
          "name": "stdout"
        }
      ]
    },
    {
      "cell_type": "code",
      "metadata": {
        "colab": {
          "base_uri": "https://localhost:8080/"
        },
        "id": "KKoWmilUrlbB",
        "outputId": "5874e832-cdde-46e7-b46e-f6c41b5dca2c"
      },
      "source": [
        "transaction_data['Payment_Mode'].value_counts()"
      ],
      "execution_count": 111,
      "outputs": [
        {
          "output_type": "execute_result",
          "data": {
            "text/plain": [
              "Card    263991\n",
              "Cash    176107\n",
              "Name: Payment_Mode, dtype: int64"
            ]
          },
          "metadata": {
            "tags": []
          },
          "execution_count": 111
        }
      ]
    },
    {
      "cell_type": "markdown",
      "metadata": {
        "id": "Xmxoyl9wcmt5"
      },
      "source": [
        "# Scaled Data, Algos, and Pipelines"
      ]
    },
    {
      "cell_type": "markdown",
      "metadata": {
        "id": "kGCHxX6iymwr"
      },
      "source": [
        "## Data Split & Pickle"
      ]
    },
    {
      "cell_type": "code",
      "metadata": {
        "id": "HsGwg8p3Qs9H"
      },
      "source": [
        "#BASELINE Data split\n",
        "ump_y = usable_master_pink.Profit\n",
        "ump_X = usable_master_pink.drop(['Profit', 'Date of Travel', 'Company'], axis = 1)\n",
        "\n",
        "base_pX_train, base_pX_test, base_py_train, base_py_test = train_test_split(ump_X, ump_y, test_size = .2, random_state = 42)\n",
        "base_pX_train, base_pX_valid, base_py_train, base_py_valid = train_test_split(base_pX_train, base_py_train, test_size = 0.25, random_state = 42)\n",
        "\n",
        "umy_y = usable_master_yellow.Profit\n",
        "umy_X = usable_master_yellow.drop(['Profit', 'Date of Travel', 'Company'], axis = 1)\n",
        "\n",
        "base_yX_train, base_yX_test, base_yy_train, base_yy_test = train_test_split(umy_X, umy_y, test_size = .2, random_state = 42)\n",
        "base_yX_train, base_yX_valid, base_yy_train, base_yy_valid = train_test_split(base_yX_train, base_yy_train, test_size = 0.25, random_state = 42)"
      ],
      "execution_count": 112,
      "outputs": []
    },
    {
      "cell_type": "code",
      "metadata": {
        "id": "0vh4mkBS__gb"
      },
      "source": [
        "#SCALED Data split\n",
        "y_p = master_p['Profit']\n",
        "X_p = master_p.drop('Profit', axis = 1)\n",
        "\n",
        "pX_train, pX_test, py_train, py_test = train_test_split(X_p, y_p, test_size = .2, random_state = 42)\n",
        "pX_train, pX_valid, py_train, py_valid = train_test_split(pX_train, py_train, test_size = 0.25, random_state = 42)\n",
        "\n",
        "y_yellow = master_y['Profit']\n",
        "X_yellow = master_y.drop('Profit', axis = 1)\n",
        "\n",
        "yX_train, yX_test, yy_train, yy_test = train_test_split(X_yellow, y_yellow, test_size = .2, random_state = 42)\n",
        "yX_train, yX_valid, yy_train, yy_valid = train_test_split(pX_train, py_train, test_size = 0.25, random_state = 42)"
      ],
      "execution_count": 113,
      "outputs": []
    },
    {
      "cell_type": "code",
      "metadata": {
        "id": "_4V_sxUbLh1M"
      },
      "source": [
        "PICKLE_PATH = '/content/drive/MyDrive/Data Glacier Internship Spring 2021/Pickled Data/'\n",
        "\n",
        "'''Pickle Baseline Pink Data'''\n",
        "with open(PICKLE_PATH + 'Baseline/' + 'p_Xtrain', 'wb') as temp0:\n",
        "    pickle.dump(pX_train, temp0)\n",
        "with open(PICKLE_PATH + 'Baseline/' + 'p_ytrain', 'wb') as temp0:\n",
        "    pickle.dump(py_train, temp0)\n",
        "with open(PICKLE_PATH + 'Baseline/' + 'p_Xtest', 'wb') as temp0:\n",
        "    pickle.dump(pX_test, temp0)\n",
        "with open(PICKLE_PATH + 'Baseline/' + 'p_ytest', 'wb') as temp0:\n",
        "    pickle.dump(py_test, temp0)\n",
        "\n",
        "'''Pickle Baseline Yellow Data'''\n",
        "with open(PICKLE_PATH + 'Baseline/' + 'y_Xtrain', 'wb') as temp0:\n",
        "    pickle.dump(yX_train, temp0)\n",
        "with open(PICKLE_PATH + 'Baseline/' + 'y_ytrain', 'wb') as temp0:\n",
        "    pickle.dump(yy_train, temp0)\n",
        "with open(PICKLE_PATH + 'Baseline/' + 'y_Xtest', 'wb') as temp0:\n",
        "    pickle.dump(yX_test, temp0)\n",
        "with open(PICKLE_PATH + 'Baseline/' + 'y_ytest', 'wb') as temp0:\n",
        "    pickle.dump(yy_test, temp0)"
      ],
      "execution_count": 114,
      "outputs": []
    },
    {
      "cell_type": "code",
      "metadata": {
        "id": "Uus974tvbc-T"
      },
      "source": [
        "'''Pickle Scaled Pink Data'''\n",
        "with open(PICKLE_PATH + 'Scaled/' + 'p_Xtrain', 'wb') as temp0:\n",
        "    pickle.dump(pX_train, temp0)\n",
        "with open(PICKLE_PATH + 'Scaled/' + 'p_ytrain', 'wb') as temp0:\n",
        "    pickle.dump(py_train, temp0)\n",
        "with open(PICKLE_PATH + 'Scaled/' + 'p_Xtest', 'wb') as temp0:\n",
        "    pickle.dump(pX_test, temp0)\n",
        "with open(PICKLE_PATH + 'Scaled/' + 'p_ytest', 'wb') as temp0:\n",
        "    pickle.dump(py_test, temp0)\n",
        "\n",
        "'''Pickle Scaled Yellow Data'''\n",
        "with open(PICKLE_PATH + 'Scaled/' + 'y_Xtrain', 'wb') as temp0:\n",
        "    pickle.dump(yX_train, temp0)\n",
        "with open(PICKLE_PATH + 'Scaled/' + 'y_ytrain', 'wb') as temp0:\n",
        "    pickle.dump(yy_train, temp0)\n",
        "with open(PICKLE_PATH + 'Scaled/' + 'y_Xtest', 'wb') as temp0:\n",
        "    pickle.dump(yX_test, temp0)\n",
        "with open(PICKLE_PATH + 'Scaled/' + 'y_ytest', 'wb') as temp0:\n",
        "    pickle.dump(yy_test, temp0)"
      ],
      "execution_count": 115,
      "outputs": []
    },
    {
      "cell_type": "markdown",
      "metadata": {
        "id": "370-Jv8Tpp5e"
      },
      "source": [
        "## Generate Pipelines for Modeling"
      ]
    },
    {
      "cell_type": "markdown",
      "metadata": {
        "id": "67M-neWRBAbr"
      },
      "source": [
        "#### Transformers (Baseline + Scaled)"
      ]
    },
    {
      "cell_type": "code",
      "metadata": {
        "id": "a-PG2bdaSEtT"
      },
      "source": [
        "base_cat_features = ['Payment_Mode', 'City', 'Gender']"
      ],
      "execution_count": 116,
      "outputs": []
    },
    {
      "cell_type": "code",
      "metadata": {
        "id": "XUXswqxuWFtg"
      },
      "source": [
        "numeric_features = ['Transaction ID', 'KM Travelled', 'Price Charged', 'Cost of Trip', 'Customer ID', 'Age', 'Income (USD/Month)', '% of Population that are Users', 'Population'] #omit Profit\n",
        "cat_features = ['Users', 'Month', 'Year', 'Payment_Mode', 'Customer_Gender_Male', 'City', 'Timezone', 'on_holiday']\n",
        "\n",
        "cat_transform = Pipeline(steps=[('ohe', OneHotEncoder(handle_unknown='ignore'))])\n",
        "\n",
        "cat_transform_p = Pipeline(steps=[('onehot', OneHotEncoder(handle_unknown='ignore'))])\n",
        "num_transform_p = Pipeline(steps = [('numscale', StandardScaler())])\n",
        "\n",
        "cat_transform_y = Pipeline(steps=[('onehot', OneHotEncoder(handle_unknown='ignore'))])\n",
        "num_transform_y = Pipeline(steps = [('numscale', StandardScaler())])\n",
        "\n",
        "#Preprocessors\n",
        "baseline_preprocessor = ColumnTransformer(\n",
        "    transformers = [\n",
        "        ('cat_base', cat_transform, base_cat_features)\n",
        "    ], remainder = 'passthrough')\n",
        "\n",
        "preprocess_p = ColumnTransformer(\n",
        "    transformers = [\n",
        "        ('num_p', num_transform_p, numeric_features),\n",
        "        ('cat_p', cat_transform_p, cat_features)\n",
        "    ], remainder = 'passthrough')\n",
        "\n",
        "preprocess_y = ColumnTransformer(\n",
        "    transformers = [\n",
        "        ('num_y', num_transform_y, numeric_features),\n",
        "        ('cat_y', cat_transform_y, cat_features)\n",
        "    ], remainder = 'passthrough')"
      ],
      "execution_count": 117,
      "outputs": []
    },
    {
      "cell_type": "markdown",
      "metadata": {
        "id": "j3kJcDiHY6uV"
      },
      "source": [
        "#### Pipelines (Baseline + Scaled)"
      ]
    },
    {
      "cell_type": "code",
      "metadata": {
        "id": "Xbi1hdfTPPj-"
      },
      "source": [
        "#PINK - Baseline Pipelines\n",
        "rf_basep = Pipeline(steps = [('preprocess', baseline_preprocessor),\n",
        "                            ('RF_baseline', RandomForestRegressor())])\n",
        "\n",
        "lr_basep = Pipeline(steps = [('preprocess', baseline_preprocessor),\n",
        "                            ('LR_baseline', LinearRegression())])\n",
        "\n",
        "gbr_basep = Pipeline(steps = [('preprocess', baseline_preprocessor),\n",
        "                            ('GBR_baseline', GradientBoostingRegressor())])\n",
        "\n",
        "lgbr_basep = Pipeline(steps = [('preprocess', baseline_preprocessor),\n",
        "                            ('LGBR_baseline', LGBMRegressor())])\n",
        "\n",
        "xgbr_basep =Pipeline(steps = [('preprocess', baseline_preprocessor),\n",
        "                            ('XGBR_baseline', XGBRegressor())])\n",
        "\n",
        "#Yellow - Baseline Pipelines\n",
        "rf_basey = Pipeline(steps = [('preprocess', baseline_preprocessor),\n",
        "                            ('RF_baseline', RandomForestRegressor())])\n",
        "\n",
        "lr_basey = Pipeline(steps = [('preprocess', baseline_preprocessor),\n",
        "                            ('LR_baseline', LinearRegression())])\n",
        "\n",
        "gbr_basey = Pipeline(steps = [('preprocess', baseline_preprocessor),\n",
        "                            ('GBR_baseline', GradientBoostingRegressor())])\n",
        "\n",
        "lgbr_basey = Pipeline(steps = [('preprocess', baseline_preprocessor),\n",
        "                            ('LGBR_baseline', LGBMRegressor())])\n",
        "\n",
        "xgbr_basey =Pipeline(steps = [('preprocess', baseline_preprocessor),\n",
        "                            ('XGBR_baseline', XGBRegressor())])"
      ],
      "execution_count": 118,
      "outputs": []
    },
    {
      "cell_type": "code",
      "metadata": {
        "id": "KmxRIO1EZ8Fg"
      },
      "source": [
        "#PINK - Final Pipelines\n",
        "rf_p = Pipeline(steps = [('preprocess', preprocess_p),\n",
        "                            ('RF_p', RandomForestRegressor())])\n",
        "\n",
        "lr_p = Pipeline(steps = [('preprocess', preprocess_p),\n",
        "                            ('LR_p', LinearRegression())])\n",
        "\n",
        "gbr_p = Pipeline(steps = [('preprocess', preprocess_p),\n",
        "                            ('GBR_p', GradientBoostingRegressor())])\n",
        "\n",
        "lgbr_p = Pipeline(steps = [('preprocess', preprocess_p),\n",
        "                            ('LGBR_p', LGBMRegressor())])\n",
        "\n",
        "xgbr_p =Pipeline(steps = [('preprocess', preprocess_p),\n",
        "                            ('XGBR_p', XGBRegressor())])\n",
        "\n",
        "#Yellow - Final Pipelines\n",
        "rf_y = Pipeline(steps = [('preprocess', preprocess_y),\n",
        "                            ('RF_y', RandomForestRegressor())])\n",
        "\n",
        "lr_y = Pipeline(steps = [('preprocess', preprocess_y),\n",
        "                            ('LR_y', LinearRegression())])\n",
        "\n",
        "gbr_y = Pipeline(steps = [('preprocess', preprocess_y),\n",
        "                            ('GBR_y', GradientBoostingRegressor())])\n",
        "\n",
        "lgbr_y = Pipeline(steps = [('preprocess', preprocess_y),\n",
        "                            ('LGBR_y', LGBMRegressor())])\n",
        "\n",
        "xgbr_y =Pipeline(steps = [('preprocess', preprocess_y),\n",
        "                            ('XGBR_y', XGBRegressor())])"
      ],
      "execution_count": 119,
      "outputs": []
    },
    {
      "cell_type": "markdown",
      "metadata": {
        "id": "3ovz-l2kIEM-"
      },
      "source": [
        "## Pink Scores (Cross-Val, RMSE)"
      ]
    },
    {
      "cell_type": "markdown",
      "metadata": {
        "id": "Qui2DLsk7VAK"
      },
      "source": [
        "### Base Scores"
      ]
    },
    {
      "cell_type": "code",
      "metadata": {
        "colab": {
          "base_uri": "https://localhost:8080/"
        },
        "id": "ejCaJP7uBUVu",
        "outputId": "21879a38-ab62-41cf-88df-974a231c91a7"
      },
      "source": [
        "base_rf_pink = cross_val_score(rf_basep, base_pX_train, base_py_train)\n",
        "base_lr_pink = cross_val_score(lr_basep, base_pX_train, base_py_train)\n",
        "base_gbr_pink = cross_val_score(gbr_basep, base_pX_train, base_py_train)\n",
        "base_lgbr_pink = cross_val_score(lgbr_basep, base_pX_train, base_py_train)\n",
        "base_xgbr_pink = cross_val_score(xgbr_basep, base_pX_train, base_py_train)"
      ],
      "execution_count": 120,
      "outputs": [
        {
          "output_type": "stream",
          "text": [
            "[23:25:32] WARNING: /workspace/src/objective/regression_obj.cu:152: reg:linear is now deprecated in favor of reg:squarederror.\n",
            "[23:25:36] WARNING: /workspace/src/objective/regression_obj.cu:152: reg:linear is now deprecated in favor of reg:squarederror.\n",
            "[23:25:40] WARNING: /workspace/src/objective/regression_obj.cu:152: reg:linear is now deprecated in favor of reg:squarederror.\n",
            "[23:25:45] WARNING: /workspace/src/objective/regression_obj.cu:152: reg:linear is now deprecated in favor of reg:squarederror.\n",
            "[23:25:49] WARNING: /workspace/src/objective/regression_obj.cu:152: reg:linear is now deprecated in favor of reg:squarederror.\n"
          ],
          "name": "stdout"
        }
      ]
    },
    {
      "cell_type": "code",
      "metadata": {
        "colab": {
          "base_uri": "https://localhost:8080/"
        },
        "id": "XbHChMjtV_Yz",
        "outputId": "76d0155b-6a46-45c7-8f1b-6b596a3702df"
      },
      "source": [
        "base_pink_scores = pd.Series({'Random Forest Regressor': np.sqrt(base_rf_pink.mean()), 'Linear Regressor': np.sqrt(base_lr_pink.mean()), 'Gradient Boosting Regressor': np.sqrt(base_gbr_pink.mean()), \n",
        "                                 'Light Gradient Boosting Regressor': np.sqrt(base_lgbr_pink.mean()), 'XGBRegressor': np.sqrt(base_xgbr_pink.mean())})\n",
        "base_pink_scores"
      ],
      "execution_count": 121,
      "outputs": [
        {
          "output_type": "execute_result",
          "data": {
            "text/plain": [
              "Random Forest Regressor              0.999529\n",
              "Linear Regressor                     1.000000\n",
              "Gradient Boosting Regressor          0.993359\n",
              "Light Gradient Boosting Regressor    0.995738\n",
              "XGBRegressor                         0.993065\n",
              "dtype: float64"
            ]
          },
          "metadata": {
            "tags": []
          },
          "execution_count": 121
        }
      ]
    },
    {
      "cell_type": "markdown",
      "metadata": {
        "id": "yIVhKDrrYwcP"
      },
      "source": [
        "### Scaled Pink Scores"
      ]
    },
    {
      "cell_type": "code",
      "metadata": {
        "id": "qnNNVYjq6rZA"
      },
      "source": [
        "scaled_lr_pink = cross_val_score(lr_p, pX_train, py_train)"
      ],
      "execution_count": 122,
      "outputs": []
    },
    {
      "cell_type": "code",
      "metadata": {
        "id": "SOKUBCth6w7a"
      },
      "source": [
        "scaled_gbr_pink = cross_val_score(gbr_p, pX_train, py_train)"
      ],
      "execution_count": 123,
      "outputs": []
    },
    {
      "cell_type": "code",
      "metadata": {
        "id": "JSQoLpPJ6zUQ"
      },
      "source": [
        "scaled_lgbr_pink = cross_val_score(lgbr_p, pX_train, py_train)"
      ],
      "execution_count": 124,
      "outputs": []
    },
    {
      "cell_type": "code",
      "metadata": {
        "colab": {
          "base_uri": "https://localhost:8080/"
        },
        "id": "S88q0mXf612k",
        "outputId": "4447cbbc-5feb-460e-9598-e634cb68e954"
      },
      "source": [
        "scaled_xgbr_pink = cross_val_score(xgbr_p, pX_train, py_train)"
      ],
      "execution_count": 125,
      "outputs": [
        {
          "output_type": "stream",
          "text": [
            "[23:27:18] WARNING: /workspace/src/objective/regression_obj.cu:152: reg:linear is now deprecated in favor of reg:squarederror.\n",
            "[23:27:21] WARNING: /workspace/src/objective/regression_obj.cu:152: reg:linear is now deprecated in favor of reg:squarederror.\n",
            "[23:27:25] WARNING: /workspace/src/objective/regression_obj.cu:152: reg:linear is now deprecated in favor of reg:squarederror.\n",
            "[23:27:28] WARNING: /workspace/src/objective/regression_obj.cu:152: reg:linear is now deprecated in favor of reg:squarederror.\n",
            "[23:27:31] WARNING: /workspace/src/objective/regression_obj.cu:152: reg:linear is now deprecated in favor of reg:squarederror.\n"
          ],
          "name": "stdout"
        }
      ]
    },
    {
      "cell_type": "code",
      "metadata": {
        "id": "G3hS3ypHYvgx"
      },
      "source": [
        "scaled_rf_pink = cross_val_score(rf_p, pX_train, py_train, cv=3)"
      ],
      "execution_count": null,
      "outputs": []
    },
    {
      "cell_type": "code",
      "metadata": {
        "id": "q0vtIpyRYui-"
      },
      "source": [
        "scaled_pink_scores = pd.Series({'Random Forest Regressor': np.sqrt(scaled_rf_pink.mean()), 'Linear Regressor': np.sqrt(scaled_lr_pink.mean()), 'Gradient Boosting Regressor': np.sqrt(scaled_gbr_pink.mean()), \n",
        "                                 'Light Gradient Boosting Regressor': np.sqrt(scaled_lgbr_pink.mean()), 'XGBRegressor': np.sqrt(scaled_xgbr_pink.mean())})\n",
        "scaled_pink_scores"
      ],
      "execution_count": null,
      "outputs": []
    },
    {
      "cell_type": "markdown",
      "metadata": {
        "id": "Ichnk7jPFT99"
      },
      "source": [
        "### FINAL- Visualize"
      ]
    },
    {
      "cell_type": "code",
      "metadata": {
        "id": "8KYT8ETRSAHu"
      },
      "source": [
        "pink_scores = pd.concat([base_pink_scores, scaled_pink_scores], axis=1)\n",
        "pink_scores.columns = ['Base', 'Scaled']\n",
        "pink_scores"
      ],
      "execution_count": null,
      "outputs": []
    },
    {
      "cell_type": "code",
      "metadata": {
        "id": "AH9DBxhA8yaf"
      },
      "source": [
        "pink_scores.sort_values(ascending = False, by='Scaled').plot(kind = 'barh')\n",
        "plt.title(\"Cross Validation RMSE of the Pink Cab's Profit\")\n",
        "plt.legend(bbox_to_anchor = (1.01, 0.6))\n",
        "plt.xlim(0.9, 1)"
      ],
      "execution_count": null,
      "outputs": []
    },
    {
      "cell_type": "code",
      "metadata": {
        "id": "C3rwPFyEy1RI"
      },
      "source": [
        "print('XGBRegressor has the lowest error for both base and scaled models - scaled transformations only reduces errors by a very small amount')"
      ],
      "execution_count": null,
      "outputs": []
    },
    {
      "cell_type": "markdown",
      "metadata": {
        "id": "EV-a-94_Tb4r"
      },
      "source": [
        "## Yellow Scores (Cross-Val, RMSE)"
      ]
    },
    {
      "cell_type": "markdown",
      "metadata": {
        "id": "Wi6vhc17IIPz"
      },
      "source": [
        "### Base Yellow Scores"
      ]
    },
    {
      "cell_type": "code",
      "metadata": {
        "id": "pBpV-QUdEIkD"
      },
      "source": [
        "base_rf_yellow = cross_val_score(rf_basey, base_yX_train, base_yy_train)\n",
        "base_lr_yellow = cross_val_score(lr_basey, base_yX_train, base_yy_train)\n",
        "base_gbr_yellow = cross_val_score(gbr_basey, base_yX_train, base_yy_train)\n",
        "base_lgbr_yellow = cross_val_score(lgbr_basey, base_yX_train, base_yy_train)\n",
        "base_xgbr_yellow = cross_val_score(xgbr_basey, base_yX_train, base_yy_train)"
      ],
      "execution_count": null,
      "outputs": []
    },
    {
      "cell_type": "code",
      "metadata": {
        "id": "HLbAbbiMX1Jd"
      },
      "source": [
        "base_yellow_scores = pd.Series({'Random Forest Regressor': np.sqrt(base_rf_yellow.mean()), 'Linear Regressor': np.sqrt(base_lr_yellow.mean()), 'Gradient Boosting Regressor': np.sqrt(base_gbr_yellow.mean()), \n",
        "                                 'Light Gradient Boosting Regressor': np.sqrt(base_lgbr_yellow.mean()), 'XGBRegressor': np.sqrt(base_xgbr_yellow.mean())})\n",
        "base_yellow_scores"
      ],
      "execution_count": null,
      "outputs": []
    },
    {
      "cell_type": "markdown",
      "metadata": {
        "id": "CVkQVF6eYyfc"
      },
      "source": [
        "### Scaled Yellow Scores"
      ]
    },
    {
      "cell_type": "code",
      "metadata": {
        "id": "VSF3144zYx0L"
      },
      "source": [
        "scaled_rf_yellow = cross_val_score(rf_y, yX_train, yy_train)\n",
        "scaled_lr_yellow = cross_val_score(lr_y, yX_train, yy_train)\n",
        "scaled_gbr_yellow = cross_val_score(gbr_y, yX_train, yy_train)\n",
        "scaled_lgbr_yellow = cross_val_score(lgbr_y, yX_train, yy_train)\n",
        "scaled_xgbr_yellow = cross_val_score(xgbr_y, yX_train, yy_train)"
      ],
      "execution_count": null,
      "outputs": []
    },
    {
      "cell_type": "code",
      "metadata": {
        "id": "ZBEIAVJpYCkO"
      },
      "source": [
        "scaled_yellow_scores = pd.Series({'Random Forest Regressor': np.sqrt(scaled_rf_yellow.mean()), 'Linear Regressor': np.sqrt(scaled_lr_yellow.mean()), 'Gradient Boosting Regressor': np.sqrt(scaled_gbr_yellow.mean()), \n",
        "                                 'Light Gradient Boosting Regressor': np.sqrt(scaled_lgbr_yellow.mean()), 'XGBRegressor': np.sqrt(scaled_xgbr_yellow.mean())})\n",
        "scaled_yellow_scores"
      ],
      "execution_count": null,
      "outputs": []
    },
    {
      "cell_type": "markdown",
      "metadata": {
        "id": "dn5MRbOHFJMy"
      },
      "source": [
        "### FINAL- Visualize"
      ]
    },
    {
      "cell_type": "code",
      "metadata": {
        "id": "tfPXSy2lSRNf"
      },
      "source": [
        "yellow_scores = pd.concat([base_yellow_scores, scaled_yellow_scores], axis=1)\n",
        "yellow_scores.columns = ['Base', 'Scaled']\n",
        "yellow_scores"
      ],
      "execution_count": null,
      "outputs": []
    },
    {
      "cell_type": "code",
      "metadata": {
        "id": "RUldmKxs5lqy"
      },
      "source": [
        "yellow_scores.sort_values(ascending = False, by='Scaled').plot(kind = 'barh')\n",
        "plt.title(\"Cross Validation RMSE of the Yellow Cab's Profit\")\n",
        "plt.legend(bbox_to_anchor = (1.01, 0.6))\n",
        "plt.xlim(0.9, 1)"
      ],
      "execution_count": null,
      "outputs": []
    },
    {
      "cell_type": "code",
      "metadata": {
        "id": "lCr6WGuNzU2p"
      },
      "source": [
        "print('XGBRegressor has the lowest error for both base and scaled models - scaled transformations only reduces errors by a very small amount')"
      ],
      "execution_count": null,
      "outputs": []
    },
    {
      "cell_type": "markdown",
      "metadata": {
        "id": "K5TI9ri2OpZV"
      },
      "source": [
        "# Fit and Score models on Validation data"
      ]
    },
    {
      "cell_type": "markdown",
      "metadata": {
        "id": "6JxJTDqUPuhK"
      },
      "source": [
        "## Fit and score Top 3 Models: XGBR, GBR, LGBR"
      ]
    },
    {
      "cell_type": "markdown",
      "metadata": {
        "id": "cw1LqzEEXv6k"
      },
      "source": [
        "### Pink"
      ]
    },
    {
      "cell_type": "code",
      "metadata": {
        "id": "L-xgEA2gO9gv"
      },
      "source": [
        "valid_score_p = {}\n",
        "model_names = ['XGBRegressor', 'Gradient Boosting Regressor', 'Light Gradient Boosting Regressor', 'Random Forest Regressor', 'Linear Regressor']\n",
        "pink_pipelines = [xgbr_p, gbr_p, lgbr_p, rf_p, lr_p]\n",
        "\n",
        "for model, name in zip(pink_pipelines, model_names):\n",
        "    print('Scoring the {} pipeline...'.format(name))\n",
        "    score = fitscore(model, pX_train, py_train, pX_valid, py_valid, 3)\n",
        "    valid_score_p[name] = score\n",
        "print('\\n')\n",
        "print('Finished!')\n",
        "valid_score_p"
      ],
      "execution_count": null,
      "outputs": []
    },
    {
      "cell_type": "code",
      "metadata": {
        "id": "serY1oRcsrTS"
      },
      "source": [
        "feature_weights(lr_p)"
      ],
      "execution_count": null,
      "outputs": []
    },
    {
      "cell_type": "code",
      "metadata": {
        "id": "JAtrMgVBsrB8"
      },
      "source": [
        "lr_p[1].intercept_"
      ],
      "execution_count": null,
      "outputs": []
    },
    {
      "cell_type": "markdown",
      "metadata": {
        "id": "qr97YDSBPvGH"
      },
      "source": [
        "### Yellow"
      ]
    },
    {
      "cell_type": "code",
      "metadata": {
        "id": "l1fWgCEgVPm3"
      },
      "source": [
        "valid_score_y = {}\n",
        "model_names = ['XGBRegressor', 'Gradient Boosting Regressor', 'Light Gradient Boosting Regressor', 'Random Forest Regressor', 'Linear Regressor']\n",
        "yellow_pipelines = [xgbr_y, gbr_y, lgbr_y, rf_y, lr_y]\n",
        "\n",
        "for model, name in zip(yellow_pipelines, model_names):\n",
        "    print('Scoring the {} pipeline...'.format(name))\n",
        "    score = fitscore(model, yX_train, yy_train, yX_valid, yy_valid, 3)\n",
        "    valid_score_y[name] = score\n",
        "print('\\n')\n",
        "print('Finished!')\n",
        "valid_score_y"
      ],
      "execution_count": null,
      "outputs": []
    },
    {
      "cell_type": "code",
      "metadata": {
        "id": "wJr801Whk_rJ"
      },
      "source": [
        "feature_weights(lr_y)"
      ],
      "execution_count": null,
      "outputs": []
    },
    {
      "cell_type": "code",
      "metadata": {
        "id": "-qu9DFglp16Z"
      },
      "source": [
        "lr_y[1].intercept_"
      ],
      "execution_count": null,
      "outputs": []
    },
    {
      "cell_type": "markdown",
      "metadata": {
        "id": "wBKyawaQE0Xz"
      },
      "source": [
        "# Final Scores - Test Data"
      ]
    },
    {
      "cell_type": "markdown",
      "metadata": {
        "id": "QbVwcJec9fIB"
      },
      "source": [
        "### Pink"
      ]
    },
    {
      "cell_type": "code",
      "metadata": {
        "id": "lONH24l-9fIC"
      },
      "source": [
        "test_score_p = {}\n",
        "model_names = ['XGBRegressor', 'Gradient Boosting Regressor', 'Light Gradient Boosting Regressor', 'Random Forest Regressor', 'Linear Regressor']\n",
        "pink_pipelines = [xgbr_p, gbr_p, lgbr_p, rf_p, lr_p]\n",
        "\n",
        "for model, name in zip(pink_pipelines, model_names):\n",
        "    print('Scoring the {} pipeline...'.format(name))\n",
        "    score = fitscore(model, pX_train, py_train, pX_test, py_test, 3)\n",
        "    test_score_p[name] = score\n",
        "print('\\n')\n",
        "print('Finished!')\n",
        "test_score_p"
      ],
      "execution_count": null,
      "outputs": []
    },
    {
      "cell_type": "code",
      "metadata": {
        "id": "CTdUo5ElE2ZN"
      },
      "source": [
        "pX_test.shape"
      ],
      "execution_count": null,
      "outputs": []
    },
    {
      "cell_type": "code",
      "metadata": {
        "id": "OVFfQUDNE5Am"
      },
      "source": [
        "py_test.shape"
      ],
      "execution_count": null,
      "outputs": []
    },
    {
      "cell_type": "code",
      "metadata": {
        "id": "WGT4E9RUC7Sm"
      },
      "source": [
        "lr_p.fit(pX_train, py_train)\n",
        "pred_p = lr_p.predict(pX_test)"
      ],
      "execution_count": null,
      "outputs": []
    },
    {
      "cell_type": "code",
      "metadata": {
        "id": "ECl7aP2Ps3YA"
      },
      "source": [
        "feature_weights(lr_p)"
      ],
      "execution_count": null,
      "outputs": []
    },
    {
      "cell_type": "code",
      "metadata": {
        "id": "_KzXybb_s3YN"
      },
      "source": [
        "lr_p[1].intercept_"
      ],
      "execution_count": null,
      "outputs": []
    },
    {
      "cell_type": "markdown",
      "metadata": {
        "id": "glVaDr4b9j_O"
      },
      "source": [
        "### Yellow"
      ]
    },
    {
      "cell_type": "code",
      "metadata": {
        "id": "aidWuANP9j_P"
      },
      "source": [
        "test_score_y = {}\n",
        "model_names = ['XGBRegressor', 'Gradient Boosting Regressor', 'Light Gradient Boosting Regressor', 'Random Forest Regressor', 'Linear Regressor']\n",
        "yellow_pipelines = [xgbr_y, gbr_y, lgbr_y, rf_y, lr_y]\n",
        "\n",
        "for model, name in zip(yellow_pipelines, model_names):\n",
        "    print('Scoring the {} pipeline...'.format(name))\n",
        "    score = fitscore(model, yX_train, yy_train, yX_test, yy_test, 3)\n",
        "    test_score_y[name] = score\n",
        "print('\\n')\n",
        "print('Finished!')\n",
        "test_score_y"
      ],
      "execution_count": null,
      "outputs": []
    },
    {
      "cell_type": "code",
      "metadata": {
        "id": "Bz7S7ZlXs8cM"
      },
      "source": [
        "feature_weights(lr_y)"
      ],
      "execution_count": null,
      "outputs": []
    },
    {
      "cell_type": "code",
      "metadata": {
        "id": "BDkwmwhms8cO"
      },
      "source": [
        "lr_y[1].intercept_"
      ],
      "execution_count": null,
      "outputs": []
    },
    {
      "cell_type": "code",
      "metadata": {
        "id": "JQ996vAB6_Me"
      },
      "source": [
        "master_df.info()"
      ],
      "execution_count": null,
      "outputs": []
    },
    {
      "cell_type": "code",
      "metadata": {
        "id": "hnd7Tr2RDiG6"
      },
      "source": [
        "lr_y.fit(yX_train, yy_train)\n",
        "pred_y = lr_y.predict(yX_test)"
      ],
      "execution_count": null,
      "outputs": []
    },
    {
      "cell_type": "code",
      "metadata": {
        "id": "mwdI-tRBDiG8"
      },
      "source": [
        "plt.scatter(yX_test, yy_test, color = 'black')\n",
        "plt.plot(yX_test, pred_y, color = 'blue')\n",
        "plt.show()"
      ],
      "execution_count": null,
      "outputs": []
    },
    {
      "cell_type": "code",
      "metadata": {
        "id": "9G054PTV7CKJ"
      },
      "source": [
        "master_df.shape"
      ],
      "execution_count": null,
      "outputs": []
    }
  ]
}